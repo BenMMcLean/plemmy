{
 "cells": [
  {
   "cell_type": "code",
   "execution_count": null,
   "metadata": {},
   "outputs": [],
   "source": [
    "from plemmy import LemmyHttp\n",
    "\n",
    "# connect to server, log in\n",
    "srv = LemmyHttp(\"https://lemmy.world\")\n",
    "srv.login(\"<username_or_email>\", \"<password>\")"
   ]
  },
  {
   "cell_type": "code",
   "execution_count": null,
   "metadata": {},
   "outputs": [],
   "source": [
    "from plemmy.responses import GetCommunityResponse\n",
    "\n",
    "# obtain community, parse JSON\n",
    "api_response = srv.get_community(name=\"lemmy\")\n",
    "response = GetCommunityResponse(api_response)\n",
    "\n",
    "# access community information\n",
    "community = response.community_view.community\n",
    "print(f\"Name: {community.name}\")\n",
    "print(f\"Actor ID: {community.actor_id}\")\n",
    "print(f\"Num. ID: {community.id}\")\n",
    "print(f\"Moderators:\")\n",
    "for person in response.moderators:\n",
    "    print(person.community.name, person.moderator.name, person.moderator.id)\n"
   ]
  },
  {
   "cell_type": "code",
   "execution_count": null,
   "metadata": {},
   "outputs": [],
   "source": [
    "from plemmy.responses import PostResponse\n",
    "\n",
    "# create a post\n",
    "api_response = srv.create_post(community.id, \"Test post please ignore\", \"Body text\")\n",
    "response = PostResponse(api_response)\n",
    "\n",
    "# access post information\n",
    "post = response.post_view.post\n",
    "print(f\"Creator ID: {post.creator_id}\")\n",
    "print(f\"Community ID: {post.community_id}\")\n",
    "print(f\"Post title: {post.name}\")\n",
    "print(f\"Post body: {post.body}\")"
   ]
  }
 ],
 "metadata": {
  "kernelspec": {
   "display_name": "plemmy",
   "language": "python",
   "name": "python3"
  },
  "language_info": {
   "codemirror_mode": {
    "name": "ipython",
    "version": 3
   },
   "file_extension": ".py",
   "mimetype": "text/x-python",
   "name": "python",
   "nbconvert_exporter": "python",
   "pygments_lexer": "ipython3",
   "version": "3.11.3"
  },
  "orig_nbformat": 4
 },
 "nbformat": 4,
 "nbformat_minor": 2
}
